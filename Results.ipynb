{
 "cells": [
  {
   "cell_type": "code",
   "execution_count": 121,
   "metadata": {},
   "outputs": [],
   "source": [
    "import pickle\n",
    "\n",
    "import numpy as np\n",
    "import pandas as pd\n",
    "\n",
    "from sklearn.ensemble import GradientBoostingClassifier"
   ]
  },
  {
   "cell_type": "markdown",
   "metadata": {},
   "source": [
    "### Results"
   ]
  },
  {
   "cell_type": "markdown",
   "metadata": {},
   "source": [
    "They key findings that I have made in analysing and evaluating this dataset are that the type of census information that best predicts your yearly income / `wage` are heavily linked to:\n",
    "\n",
    "We can look at our best performing model to see how well our hypothesis on which features were most important holds up. We can tell that the features we chose to train on were useful as the model performed relatively well on the test set. However, we can retrospectively look at the `feature_importance` to tell us which features contributed most to the learning of our best model:"
   ]
  },
  {
   "cell_type": "code",
   "execution_count": 123,
   "metadata": {},
   "outputs": [],
   "source": [
    "XGBoost = pickle.load(open('models/XGBoost-2023-01-20.pkl', 'rb'))\n",
    "\n",
    "with open(\"data/XGBoost_features.txt\") as file:\n",
    "    feature_cols = [line.rstrip() for line in file]"
   ]
  },
  {
   "cell_type": "code",
   "execution_count": 124,
   "metadata": {},
   "outputs": [
    {
     "data": {
      "text/html": [
       "<div>\n",
       "<style scoped>\n",
       "    .dataframe tbody tr th:only-of-type {\n",
       "        vertical-align: middle;\n",
       "    }\n",
       "\n",
       "    .dataframe tbody tr th {\n",
       "        vertical-align: top;\n",
       "    }\n",
       "\n",
       "    .dataframe thead th {\n",
       "        text-align: right;\n",
       "    }\n",
       "</style>\n",
       "<table border=\"1\" class=\"dataframe\">\n",
       "  <thead>\n",
       "    <tr style=\"text-align: right;\">\n",
       "      <th></th>\n",
       "      <th>feature</th>\n",
       "      <th>feature_importance</th>\n",
       "    </tr>\n",
       "  </thead>\n",
       "  <tbody>\n",
       "    <tr>\n",
       "      <th>3</th>\n",
       "      <td>weeks worked in year_bins</td>\n",
       "      <td>0.312762</td>\n",
       "    </tr>\n",
       "    <tr>\n",
       "      <th>0</th>\n",
       "      <td>education</td>\n",
       "      <td>0.306594</td>\n",
       "    </tr>\n",
       "    <tr>\n",
       "      <th>6</th>\n",
       "      <td>age_bins</td>\n",
       "      <td>0.074552</td>\n",
       "    </tr>\n",
       "    <tr>\n",
       "      <th>1</th>\n",
       "      <td>sex</td>\n",
       "      <td>0.066919</td>\n",
       "    </tr>\n",
       "    <tr>\n",
       "      <th>5</th>\n",
       "      <td>dividends from stocks_bins</td>\n",
       "      <td>0.063454</td>\n",
       "    </tr>\n",
       "    <tr>\n",
       "      <th>...</th>\n",
       "      <td>...</td>\n",
       "      <td>...</td>\n",
       "    </tr>\n",
       "    <tr>\n",
       "      <th>8</th>\n",
       "      <td>major industry code_ Armed Forces</td>\n",
       "      <td>0.000022</td>\n",
       "    </tr>\n",
       "    <tr>\n",
       "      <th>21</th>\n",
       "      <td>major industry code_ Not in universe or children</td>\n",
       "      <td>0.000022</td>\n",
       "    </tr>\n",
       "    <tr>\n",
       "      <th>53</th>\n",
       "      <td>detailed household summary in household_ Child...</td>\n",
       "      <td>0.000000</td>\n",
       "    </tr>\n",
       "    <tr>\n",
       "      <th>55</th>\n",
       "      <td>detailed household summary in household_ Group...</td>\n",
       "      <td>0.000000</td>\n",
       "    </tr>\n",
       "    <tr>\n",
       "      <th>37</th>\n",
       "      <td>major occupation code_ Not in universe</td>\n",
       "      <td>0.000000</td>\n",
       "    </tr>\n",
       "  </tbody>\n",
       "</table>\n",
       "<p>67 rows × 2 columns</p>\n",
       "</div>"
      ],
      "text/plain": [
       "                                              feature  feature_importance\n",
       "3                           weeks worked in year_bins            0.312762\n",
       "0                                           education            0.306594\n",
       "6                                            age_bins            0.074552\n",
       "1                                                 sex            0.066919\n",
       "5                          dividends from stocks_bins            0.063454\n",
       "..                                                ...                 ...\n",
       "8                   major industry code_ Armed Forces            0.000022\n",
       "21   major industry code_ Not in universe or children            0.000022\n",
       "53  detailed household summary in household_ Child...            0.000000\n",
       "55  detailed household summary in household_ Group...            0.000000\n",
       "37             major occupation code_ Not in universe            0.000000\n",
       "\n",
       "[67 rows x 2 columns]"
      ]
     },
     "execution_count": 124,
     "metadata": {},
     "output_type": "execute_result"
    }
   ],
   "source": [
    "df = pd.DataFrame(zip(feature_cols, list(XGBoost.feature_importances_))).sort_values(by=1, ascending=False)\n",
    "df.columns = ['feature', 'feature_importance']\n",
    "df"
   ]
  },
  {
   "cell_type": "markdown",
   "metadata": {},
   "source": [
    "Totalling the one-hot encoded features:"
   ]
  },
  {
   "cell_type": "code",
   "execution_count": 125,
   "metadata": {},
   "outputs": [],
   "source": [
    "feature_importances = {}\n",
    "\n",
    "for feature in features:\n",
    "    feature_importances[feature] = df.loc[df['feature'].str.contains(feature)]['feature_importance'].sum()"
   ]
  },
  {
   "cell_type": "code",
   "execution_count": 126,
   "metadata": {},
   "outputs": [
    {
     "data": {
      "text/html": [
       "<div>\n",
       "<style scoped>\n",
       "    .dataframe tbody tr th:only-of-type {\n",
       "        vertical-align: middle;\n",
       "    }\n",
       "\n",
       "    .dataframe tbody tr th {\n",
       "        vertical-align: top;\n",
       "    }\n",
       "\n",
       "    .dataframe thead th {\n",
       "        text-align: right;\n",
       "    }\n",
       "</style>\n",
       "<table border=\"1\" class=\"dataframe\">\n",
       "  <thead>\n",
       "    <tr style=\"text-align: right;\">\n",
       "      <th></th>\n",
       "      <th>feature</th>\n",
       "      <th>feature_importance</th>\n",
       "    </tr>\n",
       "  </thead>\n",
       "  <tbody>\n",
       "    <tr>\n",
       "      <th>13</th>\n",
       "      <td>weeks worked in year</td>\n",
       "      <td>0.312762</td>\n",
       "    </tr>\n",
       "    <tr>\n",
       "      <th>1</th>\n",
       "      <td>education</td>\n",
       "      <td>0.306594</td>\n",
       "    </tr>\n",
       "    <tr>\n",
       "      <th>0</th>\n",
       "      <td>age</td>\n",
       "      <td>0.088220</td>\n",
       "    </tr>\n",
       "    <tr>\n",
       "      <th>6</th>\n",
       "      <td>sex</td>\n",
       "      <td>0.066919</td>\n",
       "    </tr>\n",
       "    <tr>\n",
       "      <th>8</th>\n",
       "      <td>dividends from stocks</td>\n",
       "      <td>0.063454</td>\n",
       "    </tr>\n",
       "    <tr>\n",
       "      <th>7</th>\n",
       "      <td>capital gains</td>\n",
       "      <td>0.046435</td>\n",
       "    </tr>\n",
       "    <tr>\n",
       "      <th>5</th>\n",
       "      <td>major occupation code</td>\n",
       "      <td>0.045798</td>\n",
       "    </tr>\n",
       "    <tr>\n",
       "      <th>11</th>\n",
       "      <td>detailed household summary in household</td>\n",
       "      <td>0.028103</td>\n",
       "    </tr>\n",
       "    <tr>\n",
       "      <th>9</th>\n",
       "      <td>tax filer stat</td>\n",
       "      <td>0.023092</td>\n",
       "    </tr>\n",
       "    <tr>\n",
       "      <th>4</th>\n",
       "      <td>major industry code</td>\n",
       "      <td>0.013883</td>\n",
       "    </tr>\n",
       "    <tr>\n",
       "      <th>12</th>\n",
       "      <td>num persons worked for employer</td>\n",
       "      <td>0.009575</td>\n",
       "    </tr>\n",
       "    <tr>\n",
       "      <th>2</th>\n",
       "      <td>class of worker</td>\n",
       "      <td>0.008834</td>\n",
       "    </tr>\n",
       "    <tr>\n",
       "      <th>3</th>\n",
       "      <td>detailed industry recode</td>\n",
       "      <td>0.000000</td>\n",
       "    </tr>\n",
       "    <tr>\n",
       "      <th>10</th>\n",
       "      <td>detailed household and family stat</td>\n",
       "      <td>0.000000</td>\n",
       "    </tr>\n",
       "  </tbody>\n",
       "</table>\n",
       "</div>"
      ],
      "text/plain": [
       "                                    feature  feature_importance\n",
       "13                     weeks worked in year            0.312762\n",
       "1                                 education            0.306594\n",
       "0                                       age            0.088220\n",
       "6                                       sex            0.066919\n",
       "8                     dividends from stocks            0.063454\n",
       "7                             capital gains            0.046435\n",
       "5                     major occupation code            0.045798\n",
       "11  detailed household summary in household            0.028103\n",
       "9                            tax filer stat            0.023092\n",
       "4                       major industry code            0.013883\n",
       "12          num persons worked for employer            0.009575\n",
       "2                           class of worker            0.008834\n",
       "3                  detailed industry recode            0.000000\n",
       "10       detailed household and family stat            0.000000"
      ]
     },
     "execution_count": 126,
     "metadata": {},
     "output_type": "execute_result"
    }
   ],
   "source": [
    "df = pd.DataFrame(feature_importances.items()).sort_values(by=1, ascending=False)\n",
    "df.columns = ['feature', 'feature_importance']\n",
    "df"
   ]
  },
  {
   "cell_type": "markdown",
   "metadata": {},
   "source": [
    "1. `education` & `age` - We saw that these feature correlated highly the  with `wage` which is in agreement with our prediction that it would contribute highly to the model\n",
    "\n",
    "\n",
    "2. Financial records - `dividends_from_stocks_bins` & `capital gains` were highly linked with `wage`. This intuitively makes sense as people who tend to benefit from dividends and capital gains are likely to be people who earn a lot to begin with anyway\n",
    "\n",
    "\n",
    "3. Type of employment - e.g. `major occupation code`, `class of worker`. Had a rather small impact on the model learning - instead features such  This also make a lot of sense as the type of job a person works and the industry that they work in will have a big impact on the money they make, for example someone running a company will likely earn a lot more than someone who doesnt work.\n",
    "\n",
    "\n",
    "4. Features such as `sex` which were not as highly correlated with `wage` in our correlation matrix seems to be important to our model, which is not entirely unexpected considering the difference in the proportion of men and women earning above 50000\n",
    "\n",
    "\n",
    "5. `weeks worked in a year` had the largest impact on the model. While it is not entirely unexpected, I did not think it would play such a large role. It probably makes sense as full-time workers logically would be expected to have a lot more earning potential than those working part time.\n",
    "\n",
    "Overall it appears the model gave heavy weighting to `education`, `age` and `weeks worked in a year`. This makes a lot of sense as these are understandable features that most people would agree have a large impact on your earnings. Other features surrounding type of job and financial records also played a role, although not as much as I had expected based on earlier analysis.\n",
    "\n",
    "While there are probably more features in the dataset that would have been useful to use, I think choosing a few simple interpretable features helped build a simple but effective model."
   ]
  },
  {
   "cell_type": "markdown",
   "metadata": {},
   "source": [
    "#### Recommendations & future improvements"
   ]
  },
  {
   "cell_type": "markdown",
   "metadata": {},
   "source": [
    "A few thoughts and possible improvements for future models:\n",
    "\n",
    "\n",
    "1. A few of the features I used were still somewhat correlated with one another, perhaps implementing PCA to ensure our features were completely independent of one another. Though a drawback would be that our features would be less interpretable in the sense we wouldn't know what effect the raw features have on the model. Also was might be hard to implement on categorical data.\n",
    "\n",
    "\n",
    "2. Explore a wider range of features, may have been nice to have trained more models with more types of features to better understand how well or how poor they are as an indicator for ones `wage`.\n",
    "\n",
    "\n",
    "3. May have been able to condense features even further as I can see that some didn't contribute to the model's learning at all, suggests that perhaps further binning or condensing of certain labels / total removal of some features may have helped.\n",
    "\n",
    "\n",
    "4. Better hyperparameter tuning - would've liked to have explored the parameter space better and also to have explored more parameters than I did. Also to have run a randomized or grid search on the full dataset instead of a subset\n",
    "\n",
    "\n",
    "5. Have a better understanding of some the features to train on, for example I kept `detailed industry recode` as part of my features due to its correlation score, but it served no purpose for the model as on further inspection it contains similar information seen in `major occupation code`. The same may be said for `detailed household and family stat` and `detailed household summary in household`"
   ]
  },
  {
   "cell_type": "code",
   "execution_count": null,
   "metadata": {},
   "outputs": [],
   "source": []
  }
 ],
 "metadata": {
  "kernelspec": {
   "display_name": "Python 3",
   "language": "python",
   "name": "python3"
  },
  "language_info": {
   "codemirror_mode": {
    "name": "ipython",
    "version": 3
   },
   "file_extension": ".py",
   "mimetype": "text/x-python",
   "name": "python",
   "nbconvert_exporter": "python",
   "pygments_lexer": "ipython3",
   "version": "3.7.4"
  }
 },
 "nbformat": 4,
 "nbformat_minor": 2
}
