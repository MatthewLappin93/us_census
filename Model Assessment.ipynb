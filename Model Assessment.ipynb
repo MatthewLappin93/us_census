{
 "cells": [
  {
   "cell_type": "code",
   "execution_count": 22,
   "metadata": {},
   "outputs": [],
   "source": [
    "import pandas as pd\n",
    "import numpy as np\n",
    "import matplotlib.pyplot as plt\n",
    "import pickle\n",
    "\n",
    "from sklearn import metrics"
   ]
  },
  {
   "cell_type": "markdown",
   "metadata": {},
   "source": [
    "We will now assess our 3 models to determine which has performed best on our test set. First we will choose what metrics to evaluate by for our data and then we will compare them using the chosen metrics."
   ]
  },
  {
   "cell_type": "markdown",
   "metadata": {},
   "source": [
    "#### Evaluation metrics"
   ]
  },
  {
   "cell_type": "markdown",
   "metadata": {},
   "source": [
    "Hard to choose good metrics for measuring performance.\n",
    "\n",
    "For example, a common metric is `accuracy` which is the `number of correct predictions / total number of predictions`. However if our dataset is unbalanced, or we weight the correct predictions of one class more this metric will not give us a good idea of performance.\n",
    "\n",
    "Another common choice looking at `precision` & `recall`, however because we value the predictions of both our classes equally and `precision` & `recall` do not look at the `true negative rate` which is valuable information for us to see how the model performs on the \"negative\" class\n",
    "\n",
    "A good visual metric is the `confusion matrix` which will give us a 2x2 grid of the number of `TPs, FPs, FNs` and `TNs`. From this we can also derive other useful metrics.\n",
    "\n",
    "So in order to ensure we use all values of our `confusion matrix` I will use `specificity` instead of `precision` which will tell us the proportion of of correct \"negative\" class predictions. I will also use `recall` (also known as `sensitivity`) to tell us the proportion of correct \"positive\" class predictions.\n",
    "\n",
    "As for this problem, the weight given to the correct prediction of each class is the same. It is useful to try combine `sensitivity` and `specificity` into a single metric which we will try to maximize. This will be the Area under the curve (`AUC`) of a `ROC curve` - which is a graph that plots the `sensitivity` and `specificity` for different thresholds. We can use the `ROC curve` to plot our performance metrics and see which peforms better, we can even change the decision threshold to choose the most optimum operating point"
   ]
  },
  {
   "cell_type": "code",
   "execution_count": 23,
   "metadata": {},
   "outputs": [],
   "source": [
    "def evaluation_metrics(X_test, y_true, model, thresh=0.5, plot=True):    \n",
    "     \n",
    "    \"\"\"\n",
    "    For a given model and test data, will return\n",
    "    a set of metrics to measure model performance.\n",
    "        \n",
    "    For plot=True will return an ROC curve\n",
    "    \n",
    "    Inputs:\n",
    "        y_true: pd.DataFrame / np.array - containing ground truth values\n",
    "        y_pred: pd.DataFrame / np.array - containing predicted values\n",
    "        model: sklearn model to predict with\n",
    "        \n",
    "    Outputs:\n",
    "        eval_metrics: dict - Set of metrics: (precision, specificity, sensitivity, roc_auc_score, confusion matrix)\n",
    "    \"\"\"\n",
    "    \n",
    "    y_pred_proba = model.predict_proba(X_test)[::,1]\n",
    "    \n",
    "    y_pred = np.where(y_pred_proba > thresh, 1., 0.)\n",
    "    \n",
    "    # Calculate confusion matrix\n",
    "    cm = metrics.confusion_matrix(y_true, y_pred)\n",
    "    \n",
    "    # Use outputs for calculating later metrics\n",
    "    tn = cm[0][0] # True negatives\n",
    "    fn = cm[1][0] # False negatives\n",
    "    tp = cm[1][1] # True positives\n",
    "    fp = cm[0][1] # False positives\n",
    "\n",
    "    eval_metrics = {}\n",
    "        \n",
    "    eval_metrics['sensitivity'] = tp/(tp+fn)\n",
    "    eval_metrics['specificity'] = tn/(tn+fp)\n",
    "    eval_metrics['roc_auc_score'] = metrics.roc_auc_score(y_true, y_pred_proba)\n",
    "    eval_metrics['confusion_matrix'] = cm\n",
    "    \n",
    "    if plot:\n",
    "        \n",
    "        fpr, tpr, _ = metrics.roc_curve(y_test, y_pred_proba)\n",
    "        auc = eval_metrics['roc_auc_score']\n",
    "        plt.plot(fpr,tpr,label=\"AUC=\"+str(np.round(auc,3)))\n",
    "        plt.title('ROC-AUC curve')\n",
    "        plt.xlabel('FPR')\n",
    "        plt.ylabel('TPR')\n",
    "        plt.legend(loc=4)\n",
    "        plt.show()\n",
    "    \n",
    "    return eval_metrics"
   ]
  },
  {
   "cell_type": "markdown",
   "metadata": {},
   "source": [
    "#### Model comparisons:"
   ]
  },
  {
   "cell_type": "markdown",
   "metadata": {},
   "source": [
    "Let's read in our test data and models:"
   ]
  },
  {
   "cell_type": "code",
   "execution_count": 52,
   "metadata": {},
   "outputs": [],
   "source": [
    "X_test_minmax = np.load('data/test_data.npy')\n",
    "y_test = np.load('data/test_labels.npy')\n",
    "\n",
    "X_test_minmax = np.load('data/data_test.npy')\n",
    "y_test = np.load('data/labels_test.npy')\n",
    "\n",
    "X_test_CB = pd.read_csv('data/test_data_cat.csv')\n",
    "y_test_CB = pd.read_csv('data/test_labels_cat.csv')\n",
    "\n",
    "XGBoost = pickle.load(open('models/XGBoost-2023-01-20.pkl', 'rb'))\n",
    "CBoost = pickle.load(open('models/CBoost-2023-01-20.pkl', 'rb'))\n",
    "RFclf = pickle.load(open('models/RF-2023-01-18.pkl', 'rb'))"
   ]
  },
  {
   "cell_type": "markdown",
   "metadata": {},
   "source": [
    "## `XGBoost`:"
   ]
  },
  {
   "cell_type": "code",
   "execution_count": 42,
   "metadata": {},
   "outputs": [
    {
     "data": {
      "image/png": "[encoded data removed]",
      "text/plain": [
       "<Figure size 432x288 with 1 Axes>"
      ]
     },
     "metadata": {
      "needs_background": "light"
     },
     "output_type": "display_data"
    },
    {
     "data": {
      "text/plain": [
       "{'sensitivity': 0.8578374796956485,\n",
       " 'specificity': 0.8895893954089881,\n",
       " 'roc_auc_score': 0.9469214089715637,\n",
       " 'confusion_matrix': array([[ 5503,   683],\n",
       "        [13303, 80273]])}"
      ]
     },
     "execution_count": 42,
     "metadata": {},
     "output_type": "execute_result"
    }
   ],
   "source": [
    "evaluation_metrics(X_test_minmax, y_test, XGBoost) "
   ]
  },
  {
   "cell_type": "markdown",
   "metadata": {},
   "source": [
    "## `CBoost`:"
   ]
  },
  {
   "cell_type": "code",
   "execution_count": 53,
   "metadata": {},
   "outputs": [
    {
     "data": {
      "image/png": "[encoded data removed]",
      "text/plain": [
       "<Figure size 432x288 with 1 Axes>"
      ]
     },
     "metadata": {
      "needs_background": "light"
     },
     "output_type": "display_data"
    },
    {
     "data": {
      "text/plain": [
       "{'sensitivity': 0.8917030007694281,\n",
       " 'specificity': 0.786291626252829,\n",
       " 'roc_auc_score': 0.9239065757560202,\n",
       " 'confusion_matrix': array([[ 4864,  1322],\n",
       "        [10134, 83442]])}"
      ]
     },
     "execution_count": 53,
     "metadata": {},
     "output_type": "execute_result"
    }
   ],
   "source": [
    "evaluation_metrics(X_test_CB, y_test_CB, CBoost) "
   ]
  },
  {
   "cell_type": "markdown",
   "metadata": {},
   "source": [
    "## `Random Forest`:"
   ]
  },
  {
   "cell_type": "code",
   "execution_count": 9,
   "metadata": {},
   "outputs": [
    {
     "data": {
      "image/png": "[encoded data removed]",
      "text/plain": [
       "<Figure size 432x288 with 1 Axes>"
      ]
     },
     "metadata": {
      "needs_background": "light"
     },
     "output_type": "display_data"
    },
    {
     "data": {
      "text/plain": [
       "{'sensitivity': 0.9158438061041293,\n",
       " 'specificity': 0.7691561590688651,\n",
       " 'roc_auc_score': 0.9400039442274805,\n",
       " 'confusion_matrix': array([[ 4758,  1428],\n",
       "        [ 7875, 85701]])}"
      ]
     },
     "execution_count": 9,
     "metadata": {},
     "output_type": "execute_result"
    }
   ],
   "source": [
    "evaluation_metrics(X_test_minmax, y_test, RFclf) "
   ]
  },
  {
   "cell_type": "markdown",
   "metadata": {},
   "source": [
    "Can see that all the models perform similarly, however the `specificty` (or TNR) is higher in our `XGBoost` model and the total overall area under the curve (`AUC`) is also slightly higher, signifying that the model is overall a better classifier of both classes."
   ]
  }
 ],
 "metadata": {
  "kernelspec": {
   "display_name": "Python 3",
   "language": "python",
   "name": "python3"
  },
  "language_info": {
   "codemirror_mode": {
    "name": "ipython",
    "version": 3
   },
   "file_extension": ".py",
   "mimetype": "text/x-python",
   "name": "python",
   "nbconvert_exporter": "python",
   "pygments_lexer": "ipython3",
   "version": "3.7.4"
  }
 },
 "nbformat": 4,
 "nbformat_minor": 2
}
